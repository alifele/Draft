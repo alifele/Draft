{
  "nbformat": 4,
  "nbformat_minor": 0,
  "metadata": {
    "colab": {
      "name": "Elecup_RNN_Code.ipynb",
      "version": "0.3.2",
      "provenance": [],
      "include_colab_link": true
    },
    "kernelspec": {
      "name": "python3",
      "display_name": "Python 3"
    }
  },
  "cells": [
    {
      "cell_type": "markdown",
      "metadata": {
        "id": "view-in-github",
        "colab_type": "text"
      },
      "source": [
        "<a href=\"https://colab.research.google.com/github/alifele/Draft/blob/master/Elecup_RNN_Code.ipynb\" target=\"_parent\"><img src=\"https://colab.research.google.com/assets/colab-badge.svg\" alt=\"Open In Colab\"/></a>"
      ]
    },
    {
      "cell_type": "markdown",
      "metadata": {
        "id": "j4_-lJm1myhw",
        "colab_type": "text"
      },
      "source": [
        "#RNN (Recurrnet Neural Networks)\n",
        "the code written in the Elecup conpetition workshop for RNN"
      ]
    },
    {
      "cell_type": "markdown",
      "metadata": {
        "id": "dKwWRjx8ni_2",
        "colab_type": "text"
      },
      "source": [
        "!pip instal ----> the codes of Linux can be ran on colab"
      ]
    },
    {
      "cell_type": "code",
      "metadata": {
        "id": "uC48DpJXmn1L",
        "colab_type": "code",
        "colab": {
          "base_uri": "https://localhost:8080/",
          "height": 34
        },
        "outputId": "59fc304e-53ad-4eab-aaa7-4f0cdf026afa"
      },
      "source": [
        "!pip install numpy"
      ],
      "execution_count": 2,
      "outputs": [
        {
          "output_type": "stream",
          "text": [
            "Requirement already satisfied: numpy in /usr/local/lib/python3.6/dist-packages (1.16.3)\n"
          ],
          "name": "stdout"
        }
      ]
    },
    {
      "cell_type": "markdown",
      "metadata": {
        "id": "m1ViIn0joMsE",
        "colab_type": "text"
      },
      "source": [
        "#Remindes\n",
        "```keras.utils.to_categorical()```  ------> *one-hot* codeing\n",
        "```\n",
        "model = keras.Sequential()\n",
        "model.add(keras.layers.Dense(12, actvation='relu', input_shape=(28*28))) -----> for adding layers\n",
        "model.summary() ----> summary of model\n",
        "model.compile (loos, optimizer)-----> the options of moel fitting)\n",
        "model.fit(x_train, y_train, batch_size = 64, epoch=30)\n",
        "model.predict(x_test)\n",
        "\n",
        "```"
      ]
    },
    {
      "cell_type": "markdown",
      "metadata": {
        "id": "1LxKcC3gpunR",
        "colab_type": "text"
      },
      "source": [
        "#RNN\n",
        "\n",
        "* row ----> sequence\n",
        "* columns -----> Features"
      ]
    },
    {
      "cell_type": "code",
      "metadata": {
        "id": "C3jblRTiniAP",
        "colab_type": "code",
        "colab": {}
      },
      "source": [
        ""
      ],
      "execution_count": 0,
      "outputs": []
    }
  ]
}