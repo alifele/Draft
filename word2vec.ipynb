{
  "nbformat": 4,
  "nbformat_minor": 0,
  "metadata": {
    "colab": {
      "name": "word2vec.ipynb",
      "version": "0.3.2",
      "provenance": [],
      "include_colab_link": true
    },
    "kernelspec": {
      "name": "python3",
      "display_name": "Python 3"
    }
  },
  "cells": [
    {
      "cell_type": "markdown",
      "metadata": {
        "id": "view-in-github",
        "colab_type": "text"
      },
      "source": [
        "<a href=\"https://colab.research.google.com/github/alifele/Draft/blob/master/word2vec.ipynb\" target=\"_parent\"><img src=\"https://colab.research.google.com/assets/colab-badge.svg\" alt=\"Open In Colab\"/></a>"
      ]
    },
    {
      "cell_type": "markdown",
      "metadata": {
        "id": "wqi_e8RpSrAl",
        "colab_type": "text"
      },
      "source": [
        "the gensim algorithm "
      ]
    },
    {
      "cell_type": "code",
      "metadata": {
        "id": "3meGpV2dIDxm",
        "colab_type": "code",
        "colab": {
          "base_uri": "https://localhost:8080/",
          "height": 67
        },
        "outputId": "42e80192-3612-4b04-c6f9-46a3eae8d9c2"
      },
      "source": [
        "import os \n",
        "import pandas as pd\n",
        "import nltk\n",
        "import gensim\n",
        "from gensim import corpora, models, similarities\n",
        "import nltk\n",
        "nltk.download('punkt')"
      ],
      "execution_count": 11,
      "outputs": [
        {
          "output_type": "stream",
          "text": [
            "[nltk_data] Downloading package punkt to /root/nltk_data...\n",
            "[nltk_data]   Package punkt is already up-to-date!\n"
          ],
          "name": "stdout"
        },
        {
          "output_type": "execute_result",
          "data": {
            "text/plain": [
              "True"
            ]
          },
          "metadata": {
            "tags": []
          },
          "execution_count": 11
        }
      ]
    },
    {
      "cell_type": "markdown",
      "metadata": {
        "id": "DEVdKo9xTSJN",
        "colab_type": "text"
      },
      "source": [
        "#Importing data"
      ]
    },
    {
      "cell_type": "code",
      "metadata": {
        "id": "sPwq3_voUnzj",
        "colab_type": "code",
        "colab": {
          "base_uri": "https://localhost:8080/",
          "height": 54
        },
        "outputId": "4f2ebd62-fc31-4609-bc08-647e80454072"
      },
      "source": [
        "a = \"Video provides a powerful way to help you prove your point. When you click Online Video, you can paste in the embed code for the video you want to add. You can also type a keyword to search online for the video that best fits your document. To make your document look professionally produced, Word provides header, footer, cover page, and text box designs that complement each other. For example, you can add a matching cover page, header, and sidebar. Click Insert and then choose the elements you want from the different galleries. Themes and styles also help keep your document coordinated. When you click Design and choose a new Theme, the pictures, charts, and SmartArt graphics change to match your new theme. When you apply styles, your headings change to match the new theme. Save time in Word with new buttons that show up where you need them. To change the way a picture fits in your document, click it and a button for layout options appears next to it. When you work on a table, click where you want to add a row or a column, and then click the plus sign. Reading is easier, too, in the new Reading view. You can collapse parts of the document and focus on the text you want. If you need to stop reading before you reach the end, Word remembers where you left off - even on another device.\"\n",
        "spl = a.split()\n",
        "print(spl)"
      ],
      "execution_count": 2,
      "outputs": [
        {
          "output_type": "stream",
          "text": [
            "['Video', 'provides', 'a', 'powerful', 'way', 'to', 'help', 'you', 'prove', 'your', 'point.', 'When', 'you', 'click', 'Online', 'Video,', 'you', 'can', 'paste', 'in', 'the', 'embed', 'code', 'for', 'the', 'video', 'you', 'want', 'to', 'add.', 'You', 'can', 'also', 'type', 'a', 'keyword', 'to', 'search', 'online', 'for', 'the', 'video', 'that', 'best', 'fits', 'your', 'document.', 'To', 'make', 'your', 'document', 'look', 'professionally', 'produced,', 'Word', 'provides', 'header,', 'footer,', 'cover', 'page,', 'and', 'text', 'box', 'designs', 'that', 'complement', 'each', 'other.', 'For', 'example,', 'you', 'can', 'add', 'a', 'matching', 'cover', 'page,', 'header,', 'and', 'sidebar.', 'Click', 'Insert', 'and', 'then', 'choose', 'the', 'elements', 'you', 'want', 'from', 'the', 'different', 'galleries.', 'Themes', 'and', 'styles', 'also', 'help', 'keep', 'your', 'document', 'coordinated.', 'When', 'you', 'click', 'Design', 'and', 'choose', 'a', 'new', 'Theme,', 'the', 'pictures,', 'charts,', 'and', 'SmartArt', 'graphics', 'change', 'to', 'match', 'your', 'new', 'theme.', 'When', 'you', 'apply', 'styles,', 'your', 'headings', 'change', 'to', 'match', 'the', 'new', 'theme.', 'Save', 'time', 'in', 'Word', 'with', 'new', 'buttons', 'that', 'show', 'up', 'where', 'you', 'need', 'them.', 'To', 'change', 'the', 'way', 'a', 'picture', 'fits', 'in', 'your', 'document,', 'click', 'it', 'and', 'a', 'button', 'for', 'layout', 'options', 'appears', 'next', 'to', 'it.', 'When', 'you', 'work', 'on', 'a', 'table,', 'click', 'where', 'you', 'want', 'to', 'add', 'a', 'row', 'or', 'a', 'column,', 'and', 'then', 'click', 'the', 'plus', 'sign.', 'Reading', 'is', 'easier,', 'too,', 'in', 'the', 'new', 'Reading', 'view.', 'You', 'can', 'collapse', 'parts', 'of', 'the', 'document', 'and', 'focus', 'on', 'the', 'text', 'you', 'want.', 'If', 'you', 'need', 'to', 'stop', 'reading', 'before', 'you', 'reach', 'the', 'end,', 'Word', 'remembers', 'where', 'you', 'left', 'off', '-', 'even', 'on', 'another', 'device.']\n"
          ],
          "name": "stdout"
        }
      ]
    },
    {
      "cell_type": "code",
      "metadata": {
        "id": "z_ZaWVDFYoUg",
        "colab_type": "code",
        "colab": {
          "base_uri": "https://localhost:8080/",
          "height": 67
        },
        "outputId": "98c95e73-de38-4374-93a6-2c91d6207511"
      },
      "source": [
        ""
      ],
      "execution_count": 7,
      "outputs": [
        {
          "output_type": "stream",
          "text": [
            "[nltk_data] Downloading package punkt to /root/nltk_data...\n",
            "[nltk_data]   Unzipping tokenizers/punkt.zip.\n"
          ],
          "name": "stdout"
        },
        {
          "output_type": "execute_result",
          "data": {
            "text/plain": [
              "True"
            ]
          },
          "metadata": {
            "tags": []
          },
          "execution_count": 7
        }
      ]
    },
    {
      "cell_type": "code",
      "metadata": {
        "id": "uEvUXMOZTL_y",
        "colab_type": "code",
        "colab": {}
      },
      "source": [
        "#df = pandas.read_csv()\n",
        "corpus = spl\n",
        "\n",
        "tok_corp = [nltk.word_tokenize(sent) for sent in corpus]\n",
        "\n",
        "model = gensim.models.Word2Vec(tok_corp, min_count = 1, size= 32)"
      ],
      "execution_count": 0,
      "outputs": []
    },
    {
      "cell_type": "markdown",
      "metadata": {
        "id": "-EN2OPbBYzNi",
        "colab_type": "text"
      },
      "source": [
        "#Most Similar"
      ]
    },
    {
      "cell_type": "code",
      "metadata": {
        "id": "yMXekYfqYy2Y",
        "colab_type": "code",
        "colab": {
          "base_uri": "https://localhost:8080/",
          "height": 272
        },
        "outputId": "3f913e90-6242-40ac-9814-f012d613eded"
      },
      "source": [
        "model.most_similar('way')"
      ],
      "execution_count": 10,
      "outputs": [
        {
          "output_type": "stream",
          "text": [
            "/usr/local/lib/python3.6/dist-packages/ipykernel_launcher.py:1: DeprecationWarning: Call to deprecated `most_similar` (Method will be removed in 4.0.0, use self.wv.most_similar() instead).\n",
            "  \"\"\"Entry point for launching an IPython kernel.\n",
            "/usr/local/lib/python3.6/dist-packages/gensim/matutils.py:737: FutureWarning: Conversion of the second argument of issubdtype from `int` to `np.signedinteger` is deprecated. In future, it will be treated as `np.int64 == np.dtype(int).type`.\n",
            "  if np.issubdtype(vec.dtype, np.int):\n"
          ],
          "name": "stderr"
        },
        {
          "output_type": "execute_result",
          "data": {
            "text/plain": [
              "[('off', 0.5295600891113281),\n",
              " ('Online', 0.33250194787979126),\n",
              " ('box', 0.30279821157455444),\n",
              " ('you', 0.2997171878814697),\n",
              " ('footer', 0.2803075909614563),\n",
              " ('Save', 0.2752511203289032),\n",
              " ('need', 0.2743794023990631),\n",
              " ('headings', 0.2739904522895813),\n",
              " ('You', 0.2667462229728699),\n",
              " ('professionally', 0.25016915798187256)]"
            ]
          },
          "metadata": {
            "tags": []
          },
          "execution_count": 10
        }
      ]
    },
    {
      "cell_type": "code",
      "metadata": {
        "id": "7ZnKsOXTVVXO",
        "colab_type": "code",
        "colab": {}
      },
      "source": [
        ""
      ],
      "execution_count": 0,
      "outputs": []
    }
  ]
}