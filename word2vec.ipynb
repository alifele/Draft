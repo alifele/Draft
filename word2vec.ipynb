{
  "nbformat": 4,
  "nbformat_minor": 0,
  "metadata": {
    "colab": {
      "name": "word2vec.ipynb",
      "version": "0.3.2",
      "provenance": [],
      "include_colab_link": true
    },
    "kernelspec": {
      "name": "python3",
      "display_name": "Python 3"
    }
  },
  "cells": [
    {
      "cell_type": "markdown",
      "metadata": {
        "id": "view-in-github",
        "colab_type": "text"
      },
      "source": [
        "<a href=\"https://colab.research.google.com/github/alifele/Draft/blob/master/word2vec.ipynb\" target=\"_parent\"><img src=\"https://colab.research.google.com/assets/colab-badge.svg\" alt=\"Open In Colab\"/></a>"
      ]
    },
    {
      "cell_type": "markdown",
      "metadata": {
        "id": "wqi_e8RpSrAl",
        "colab_type": "text"
      },
      "source": [
        "the gensim algorithm "
      ]
    },
    {
      "cell_type": "code",
      "metadata": {
        "id": "3meGpV2dIDxm",
        "colab_type": "code",
        "colab": {
          "base_uri": "https://localhost:8080/",
          "height": 50
        },
        "outputId": "54d1c8da-0160-4ff1-e509-271a58b18266"
      },
      "source": [
        "import os \n",
        "import pandas as pd\n",
        "import nltk\n",
        "import gensim\n",
        "from gensim import corpora, models, similarities\n",
        "import nltk\n",
        "nltk.download('punkt')\n",
        "import requests\n",
        "import io\n",
        "import numpy as np\n",
        "import matplotlib.pyplot as plt"
      ],
      "execution_count": 12,
      "outputs": [
        {
          "output_type": "stream",
          "text": [
            "[nltk_data] Downloading package punkt to /root/nltk_data...\n",
            "[nltk_data]   Package punkt is already up-to-date!\n"
          ],
          "name": "stdout"
        }
      ]
    },
    {
      "cell_type": "code",
      "metadata": {
        "id": "yq50yILAe_F2",
        "colab_type": "code",
        "colab": {
          "base_uri": "https://localhost:8080/",
          "height": 121
        },
        "outputId": "e3730b48-ddd4-4218-f7e9-bb9d8c6a0f70"
      },
      "source": [
        "\n",
        "!pip install emoji"
      ],
      "execution_count": 17,
      "outputs": [
        {
          "output_type": "stream",
          "text": [
            "Collecting emoji\n",
            "\u001b[?25l  Downloading https://files.pythonhosted.org/packages/6c/ee/8cc0af26113508c8513dac40b1990b21d1d0136b3981a8b7b8a231a56c8d/emoji-0.5.2-py3-none-any.whl (41kB)\n",
            "\r\u001b[K     |████████                        | 10kB 12.7MB/s eta 0:00:01\r\u001b[K     |████████████████                | 20kB 1.8MB/s eta 0:00:01\r\u001b[K     |████████████████████████        | 30kB 2.7MB/s eta 0:00:01\r\u001b[K     |███████████████████████████████▉| 40kB 3.5MB/s eta 0:00:01\r\u001b[K     |████████████████████████████████| 51kB 3.8MB/s \n",
            "\u001b[?25hInstalling collected packages: emoji\n",
            "Successfully installed emoji-0.5.2\n"
          ],
          "name": "stdout"
        }
      ]
    },
    {
      "cell_type": "code",
      "metadata": {
        "id": "aemjpZECeUry",
        "colab_type": "code",
        "colab": {
          "base_uri": "https://localhost:8080/",
          "height": 121
        },
        "outputId": "f798bde5-8f45-4979-f889-d931cf2a1d5c"
      },
      "source": [
        "from google.colab import drive\n",
        "drive.mount('/content/drive')"
      ],
      "execution_count": 13,
      "outputs": [
        {
          "output_type": "stream",
          "text": [
            "Go to this URL in a browser: https://accounts.google.com/o/oauth2/auth?client_id=947318989803-6bn6qk8qdgf4n4g3pfee6491hc0brc4i.apps.googleusercontent.com&redirect_uri=urn%3Aietf%3Awg%3Aoauth%3A2.0%3Aoob&scope=email%20https%3A%2F%2Fwww.googleapis.com%2Fauth%2Fdocs.test%20https%3A%2F%2Fwww.googleapis.com%2Fauth%2Fdrive%20https%3A%2F%2Fwww.googleapis.com%2Fauth%2Fdrive.photos.readonly%20https%3A%2F%2Fwww.googleapis.com%2Fauth%2Fpeopleapi.readonly&response_type=code\n",
            "\n",
            "Enter your authorization code:\n",
            "··········\n",
            "Mounted at /content/drive\n"
          ],
          "name": "stdout"
        }
      ]
    },
    {
      "cell_type": "code",
      "metadata": {
        "id": "72s3wcgZe7iL",
        "colab_type": "code",
        "colab": {}
      },
      "source": [
        "from __future__ import unicode_literals\n",
        "\n",
        "import functools\n",
        "import operator\n",
        "from tempfile import TemporaryFile\n",
        "import numpy as np\n",
        "from hazm import *\n",
        "import openpyxl\n",
        "import re\n",
        "import emoji\n",
        "\n",
        "\n",
        "def extract_emojis(str):\n",
        "    return ''.join(c for c in str if c in emoji.UNICODE_EMOJI)\n",
        "\n",
        "\n",
        "path = \"dataset_train.xlsx\"\n",
        "\n",
        "# To open the workbook\n",
        "# workbook object is created\n",
        "wb_obj = openpyxl.load_workbook(path)\n",
        "sheet_obj = wb_obj.active\n",
        "\n",
        "# Cell objects also have row, column,\n",
        "# and coordinate attributes that provide\n",
        "# location information for the cell.\n",
        "\n",
        "# Note: The first row or\n",
        "# column integer is 1, not 0.\n",
        "\n",
        "# Cell object is created by using\n",
        "# sheet object's cell() method.\n",
        "m_row = sheet_obj.max_row\n",
        "\n",
        "# Loop will print all values\n",
        "# of first column\n",
        "\n",
        "outfile = TemporaryFile()\n",
        "normalizer = Normalizer()\n",
        "emojis = []\n",
        "# words = []\n",
        "file1 = open(\"myfile.txt\", \"w\")\n",
        "sentences = []\n",
        "for i in range(1, m_row + 1):\n",
        "    cell_obj = sheet_obj.cell(row=i, column=4)\n",
        "    sentence = cell_obj.value\n",
        "    emojis.append(extract_emojis(sentence))\n",
        "    normalized_sentence = normalizer.normalize(sentence)\n",
        "    # print(word_tokenize(sentence))\n",
        "    res = re.findall(r'\\w+', sentence)\n",
        "    sentences.append(res)\n",
        "    #np.save('alitex.txt', res)\n",
        "    # file1.write(res)\n",
        "    # file1.write('\\n')\n",
        "\n",
        "    # print(str(res))\n",
        "    # print(re.split(' |_|\\u200c|\\u202c|\\u2069|\\u2067|\\u202b',cell_obj.value))\n"
      ],
      "execution_count": 0,
      "outputs": []
    },
    {
      "cell_type": "markdown",
      "metadata": {
        "id": "DEVdKo9xTSJN",
        "colab_type": "text"
      },
      "source": [
        "#Importing data"
      ]
    },
    {
      "cell_type": "code",
      "metadata": {
        "id": "sPwq3_voUnzj",
        "colab_type": "code",
        "colab": {
          "base_uri": "https://localhost:8080/",
          "height": 34
        },
        "outputId": "1158beb2-2fa2-4a8d-afdb-f32cfad46635"
      },
      "source": [
        "i= 13\n",
        "a = sentences[13]\n",
        "\n",
        "alldata = []\n",
        "for  elem in sentences:\n",
        "  alldata += elem\n",
        "\n",
        "print(len(alldata))"
      ],
      "execution_count": 41,
      "outputs": [
        {
          "output_type": "stream",
          "text": [
            "164786\n"
          ],
          "name": "stdout"
        }
      ]
    },
    {
      "cell_type": "code",
      "metadata": {
        "id": "uEvUXMOZTL_y",
        "colab_type": "code",
        "colab": {}
      },
      "source": [
        "#df = pandas.read_csv()\n",
        "corpus = alldata\n",
        "\n",
        "tok_corp = [nltk.word_tokenize(sent) for sent in corpus]\n",
        "\n",
        "model = gensim.models.Word2Vec(tok_corp, size= 100)"
      ],
      "execution_count": 0,
      "outputs": []
    },
    {
      "cell_type": "code",
      "metadata": {
        "id": "mtFE1Q-3jTAp",
        "colab_type": "code",
        "colab": {}
      },
      "source": [
        "#model = gensim.models.Word2Vec(alldata, size=100, window=5, min_count=5, workers=4)"
      ],
      "execution_count": 0,
      "outputs": []
    },
    {
      "cell_type": "markdown",
      "metadata": {
        "id": "-EN2OPbBYzNi",
        "colab_type": "text"
      },
      "source": [
        "#Most Similar"
      ]
    },
    {
      "cell_type": "code",
      "metadata": {
        "id": "yMXekYfqYy2Y",
        "colab_type": "code",
        "colab": {
          "base_uri": "https://localhost:8080/",
          "height": 272
        },
        "outputId": "3a900fa7-8354-4dea-caef-9ca1e9b41872"
      },
      "source": [
        "model.most_similar('علی')"
      ],
      "execution_count": 66,
      "outputs": [
        {
          "output_type": "stream",
          "text": [
            "/usr/local/lib/python3.6/dist-packages/ipykernel_launcher.py:1: DeprecationWarning: Call to deprecated `most_similar` (Method will be removed in 4.0.0, use self.wv.most_similar() instead).\n",
            "  \"\"\"Entry point for launching an IPython kernel.\n",
            "/usr/local/lib/python3.6/dist-packages/gensim/matutils.py:737: FutureWarning: Conversion of the second argument of issubdtype from `int` to `np.signedinteger` is deprecated. In future, it will be treated as `np.int64 == np.dtype(int).type`.\n",
            "  if np.issubdtype(vec.dtype, np.int):\n"
          ],
          "name": "stderr"
        },
        {
          "output_type": "execute_result",
          "data": {
            "text/plain": [
              "[('خیلیا', 0.3549264967441559),\n",
              " ('کافی', 0.34356606006622314),\n",
              " ('دانشمند', 0.306194543838501),\n",
              " ('روزگار', 0.3046659827232361),\n",
              " ('معنای', 0.30363816022872925),\n",
              " ('وضع', 0.28796082735061646),\n",
              " ('قدرت', 0.2865053415298462),\n",
              " ('اهنگ', 0.28503748774528503),\n",
              " ('عاشقشم', 0.2843095660209656),\n",
              " ('خخ', 0.2833382189273834)]"
            ]
          },
          "metadata": {
            "tags": []
          },
          "execution_count": 66
        }
      ]
    },
    {
      "cell_type": "code",
      "metadata": {
        "id": "7ZnKsOXTVVXO",
        "colab_type": "code",
        "colab": {}
      },
      "source": [
        ""
      ],
      "execution_count": 0,
      "outputs": []
    }
  ]
}