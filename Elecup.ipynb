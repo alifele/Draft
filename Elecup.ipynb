{
  "nbformat": 4,
  "nbformat_minor": 0,
  "metadata": {
    "colab": {
      "name": "Elecup.ipynb",
      "version": "0.3.2",
      "provenance": [],
      "include_colab_link": true
    },
    "kernelspec": {
      "name": "python3",
      "display_name": "Python 3"
    }
  },
  "cells": [
    {
      "cell_type": "markdown",
      "metadata": {
        "id": "view-in-github",
        "colab_type": "text"
      },
      "source": [
        "<a href=\"https://colab.research.google.com/github/alifele/Draft/blob/master/Elecup.ipynb\" target=\"_parent\"><img src=\"https://colab.research.google.com/assets/colab-badge.svg\" alt=\"Open In Colab\"/></a>"
      ]
    },
    {
      "cell_type": "markdown",
      "metadata": {
        "id": "lOc4LrStbX76",
        "colab_type": "text"
      },
      "source": [
        "#Autoencoder\n",
        "is used for feature reductoin\n"
      ]
    },
    {
      "cell_type": "markdown",
      "metadata": {
        "id": "DuxG2Bg1bdfx",
        "colab_type": "text"
      },
      "source": [
        "#Softmax\n",
        "somthing like sigmoid function. is used for output \n"
      ]
    },
    {
      "cell_type": "markdown",
      "metadata": {
        "id": "GYqAjVA1b7Ac",
        "colab_type": "text"
      },
      "source": [
        "# Loss funcions\n",
        "* binary cross entropy\n",
        "* cross entropy  ----> be aware that the cost of 0 for 1 label is infinite.(and also 0 prediction for 1 label ) clip two ends to [0.0001 , 0.9999]\n"
      ]
    },
    {
      "cell_type": "markdown",
      "metadata": {
        "id": "p_IEE5Grcj6O",
        "colab_type": "text"
      },
      "source": [
        "# Neural Language Processing \n",
        "* sentiment classifiation\n",
        "* machine translation\n",
        "* visual question answering\n",
        "* part of speech tagging\n",
        "* named entity recignition\n",
        "* image captionaning \n",
        "* text generation"
      ]
    },
    {
      "cell_type": "markdown",
      "metadata": {
        "id": "eQbicfxtdJ3A",
        "colab_type": "text"
      },
      "source": [
        "#word presentation\n",
        "\n",
        "appple = [0,0,0,0,0,0,0,1,1,0,0]\n",
        "\n",
        "\n",
        "Distance is the main problem\n",
        "\n",
        "sol ---> one hot codeing\n",
        "ben:\n",
        "zero dot product between two words\n",
        "\n",
        "problems :\n",
        "* motel and hotel\n",
        "* dimention\n",
        "\n"
      ]
    },
    {
      "cell_type": "markdown",
      "metadata": {
        "id": "OtSvUQ8heHF8",
        "colab_type": "text"
      },
      "source": [
        "# Representaion based on Context\n",
        "\n",
        "# * Co_accurrence matrix :\n",
        "\n",
        "* word -----> Columns \n",
        "* subject -----> Rows\n",
        "\n",
        "\n",
        "SVD operator on matrix can be used to extract more informatiopn"
      ]
    },
    {
      "cell_type": "markdown",
      "metadata": {
        "id": "sVfguqx2fUvz",
        "colab_type": "text"
      },
      "source": [
        "# Vord vector Visualization\n",
        "\n",
        "\n",
        "every word be mapped to different cites of diagram"
      ]
    },
    {
      "cell_type": "markdown",
      "metadata": {
        "id": "YCQJKS8Wfjtd",
        "colab_type": "text"
      },
      "source": [
        "#Skip-gram -----> more fancy method\n",
        "\n",
        "\n",
        "from the *canter word* we can predict the contxt words with high probability\n"
      ]
    },
    {
      "cell_type": "markdown",
      "metadata": {
        "id": "BhyLt1gUim74",
        "colab_type": "text"
      },
      "source": [
        "#Visualization\n",
        "\n",
        "**PCA** and **t_SNE** can be used for feature reduction to 2 or 3 and now we can visualized it\n"
      ]
    },
    {
      "cell_type": "markdown",
      "metadata": {
        "id": "BOArhTj4jCSE",
        "colab_type": "text"
      },
      "source": [
        "#Skip-gram in python\n",
        "Gencene is python package used for word2vec and skip_gram"
      ]
    },
    {
      "cell_type": "markdown",
      "metadata": {
        "id": "mXYB93WMjSqh",
        "colab_type": "text"
      },
      "source": [
        "#Recurrent Neural Networks\n",
        "\n",
        "it is one of the powerful means in NLP\n",
        "\n",
        "it is very good tool for sequential data processing (for time series analysis) ---> like brain signals .... NLP (because words can be considered as sequences)"
      ]
    },
    {
      "cell_type": "markdown",
      "metadata": {
        "id": "SwoRBO0DjhFr",
        "colab_type": "text"
      },
      "source": [
        ""
      ]
    },
    {
      "cell_type": "markdown",
      "metadata": {
        "id": "vDu3Mf85j5qa",
        "colab_type": "text"
      },
      "source": [
        "#Types of Recuurent\n",
        "\n",
        "* many to many\n",
        "* many to one  ----> may be used for this competition\n",
        "* one to many\n",
        "* online"
      ]
    },
    {
      "cell_type": "markdown",
      "metadata": {
        "id": "4_VDIw9ffAkB",
        "colab_type": "text"
      },
      "source": [
        "#Operations\n",
        "\n",
        "three kind of matrix mmultiplicatiopn are used in RNN\n",
        "\n",
        "activation function is is *tangent hyperbolic*"
      ]
    },
    {
      "cell_type": "markdown",
      "metadata": {
        "id": "MIWT8MYRkyxZ",
        "colab_type": "text"
      },
      "source": [
        "# Unfold version of RNN\n",
        "\n",
        "can be done useing computation graph"
      ]
    },
    {
      "cell_type": "markdown",
      "metadata": {
        "id": "iqDTg0C8k30z",
        "colab_type": "text"
      },
      "source": [
        "#Applications\n",
        "* text genration\n"
      ]
    },
    {
      "cell_type": "markdown",
      "metadata": {
        "id": "KiGP4FMTl7pn",
        "colab_type": "text"
      },
      "source": [
        "#LSTM ( long short term memory)\n",
        "\n",
        "\n",
        "version of RNN in which  the problem of *Gradient vanishing* has be solved"
      ]
    },
    {
      "cell_type": "code",
      "metadata": {
        "id": "qxMVQn2ebUjh",
        "colab_type": "code",
        "colab": {}
      },
      "source": [
        ""
      ],
      "execution_count": 0,
      "outputs": []
    }
  ]
}